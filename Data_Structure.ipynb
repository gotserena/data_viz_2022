{
  "nbformat": 4,
  "nbformat_minor": 0,
  "metadata": {
    "colab": {
      "name": "Untitled1.ipynb",
      "provenance": [],
      "include_colab_link": true
    },
    "kernelspec": {
      "name": "python3",
      "display_name": "Python 3"
    },
    "language_info": {
      "name": "python"
    }
  },
  "cells": [
    {
      "cell_type": "markdown",
      "metadata": {
        "id": "view-in-github",
        "colab_type": "text"
      },
      "source": [
        "<a href=\"https://colab.research.google.com/github/gotserena/data_viz_2022/blob/main/Data_Structure.ipynb\" target=\"_parent\"><img src=\"https://colab.research.google.com/assets/colab-badge.svg\" alt=\"Open In Colab\"/></a>"
      ]
    },
    {
      "cell_type": "markdown",
      "source": [
        "Data Strucuture (โครงสร้างข้อมูล)\n",
        "การเก้บข้อมูลหลายๆตัวไว้ด้วยกันอย่างเป็นร\n",
        "ะเบียบ"
      ],
      "metadata": {
        "id": "ELq6Eo4wWMkn"
      }
    },
    {
      "cell_type": "markdown",
      "source": [
        ""
      ],
      "metadata": {
        "id": "_S_92YgYsN55"
      }
    },
    {
      "cell_type": "markdown",
      "source": [
        "## list()\n",
        "*   เก็บอะไรก็ได้\n",
        "*   ลำดับในการเก็บ มีความสำศัญ\n",
        "\n"
      ],
      "metadata": {
        "id": "tCrbC5uWWcLW"
      }
    },
    {
      "cell_type": "code",
      "execution_count": null,
      "metadata": {
        "id": "WA5ojh2LN_Ei"
      },
      "outputs": [],
      "source": [
        "list_a = [1,2,3,4,5,6] #square brackets"
      ]
    },
    {
      "cell_type": "code",
      "source": [
        "list_a"
      ],
      "metadata": {
        "colab": {
          "base_uri": "https://localhost:8080/"
        },
        "id": "c_wF0yPrWhLZ",
        "outputId": "7a642323-c847-4529-e1cc-803f5448f378"
      },
      "execution_count": null,
      "outputs": [
        {
          "output_type": "execute_result",
          "data": {
            "text/plain": [
              "[1, 2, 3, 4, 5, 6]"
            ]
          },
          "metadata": {},
          "execution_count": 2
        }
      ]
    },
    {
      "cell_type": "code",
      "source": [
        "list_b = ['ab',2,3.14,list_a]#่เก็บข้อมูลชนิดหนึ่ง"
      ],
      "metadata": {
        "id": "pttxRIppWkN4"
      },
      "execution_count": null,
      "outputs": []
    },
    {
      "cell_type": "code",
      "source": [
        "list_b"
      ],
      "metadata": {
        "colab": {
          "base_uri": "https://localhost:8080/"
        },
        "id": "KHGLQvJkWlyN",
        "outputId": "83491beb-5de3-4d61-8f5e-c0797ebb6591"
      },
      "execution_count": null,
      "outputs": [
        {
          "output_type": "execute_result",
          "data": {
            "text/plain": [
              "['ab', 2, 3, 14, [1, 2, 3, 4, 5, 6]]"
            ]
          },
          "metadata": {},
          "execution_count": 4
        }
      ]
    },
    {
      "cell_type": "markdown",
      "source": [
        "## indexing การชี้สมาชิกใน list ด้วย เลขลำดับของ list"
      ],
      "metadata": {
        "id": "hHRtQIyuWq7B"
      }
    },
    {
      "cell_type": "code",
      "source": [
        "list_a[3]"
      ],
      "metadata": {
        "colab": {
          "base_uri": "https://localhost:8080/"
        },
        "id": "68SC1hCUWnop",
        "outputId": "abefc263-04eb-42ac-9083-1040e4d5f409"
      },
      "execution_count": null,
      "outputs": [
        {
          "output_type": "execute_result",
          "data": {
            "text/plain": [
              "4"
            ]
          },
          "metadata": {},
          "execution_count": 5
        }
      ]
    },
    {
      "cell_type": "code",
      "source": [
        "list_b[3] "
      ],
      "metadata": {
        "colab": {
          "base_uri": "https://localhost:8080/"
        },
        "id": "BBHc0S7UWvIW",
        "outputId": "aac4d33a-8b1b-4739-e060-aa1d89be29e9"
      },
      "execution_count": null,
      "outputs": [
        {
          "output_type": "execute_result",
          "data": {
            "text/plain": [
              "14"
            ]
          },
          "metadata": {},
          "execution_count": 6
        }
      ]
    },
    {
      "cell_type": "code",
      "source": [
        "list_b[3][4]"
      ],
      "metadata": {
        "colab": {
          "base_uri": "https://localhost:8080/"
        },
        "id": "mcd8l2IIWwCr",
        "outputId": "954a7d91-b516-43ce-9561-b2cab1a795b8"
      },
      "execution_count": null,
      "outputs": [
        {
          "output_type": "execute_result",
          "data": {
            "text/plain": [
              "5"
            ]
          },
          "metadata": {},
          "execution_count": 12
        }
      ]
    },
    {
      "cell_type": "code",
      "source": [
        "list_a[6] #เกินที่มีอยู่"
      ],
      "metadata": {
        "colab": {
          "base_uri": "https://localhost:8080/",
          "height": 166
        },
        "id": "HFjSZp1TWxD9",
        "outputId": "11f9239e-0e0b-4dd0-fc7c-16709f7a9876"
      },
      "execution_count": null,
      "outputs": [
        {
          "output_type": "error",
          "ename": "IndexError",
          "evalue": "ignored",
          "traceback": [
            "\u001b[0;31m---------------------------------------------------------------------------\u001b[0m",
            "\u001b[0;31mIndexError\u001b[0m                                Traceback (most recent call last)",
            "\u001b[0;32m<ipython-input-13-3dff17136e08>\u001b[0m in \u001b[0;36m<module>\u001b[0;34m()\u001b[0m\n\u001b[0;32m----> 1\u001b[0;31m \u001b[0mlist_a\u001b[0m\u001b[0;34m[\u001b[0m\u001b[0;36m6\u001b[0m\u001b[0;34m]\u001b[0m \u001b[0;31m#เกินที่มีอยู่\u001b[0m\u001b[0;34m\u001b[0m\u001b[0;34m\u001b[0m\u001b[0m\n\u001b[0m",
            "\u001b[0;31mIndexError\u001b[0m: list index out of range"
          ]
        }
      ]
    },
    {
      "cell_type": "code",
      "source": [
        "list_a[-1]  #Index -1  เรียงจากหลังมา\n"
      ],
      "metadata": {
        "colab": {
          "base_uri": "https://localhost:8080/"
        },
        "id": "YLBi7RLeX-HA",
        "outputId": "7acae136-2b4d-43a4-f487-272fd0828bdd"
      },
      "execution_count": null,
      "outputs": [
        {
          "output_type": "execute_result",
          "data": {
            "text/plain": [
              "6"
            ]
          },
          "metadata": {},
          "execution_count": 15
        }
      ]
    },
    {
      "cell_type": "code",
      "source": [
        "list_a[-4] # index -4 เป็นตัวที่4 นับจากหลัง\n"
      ],
      "metadata": {
        "colab": {
          "base_uri": "https://localhost:8080/"
        },
        "id": "Nvk3HHm0YItR",
        "outputId": "346e82ca-815d-4b4a-d0a1-2cd76e46fdb7"
      },
      "execution_count": null,
      "outputs": [
        {
          "output_type": "execute_result",
          "data": {
            "text/plain": [
              "3"
            ]
          },
          "metadata": {},
          "execution_count": 16
        }
      ]
    },
    {
      "cell_type": "markdown",
      "source": [
        "#การสร้าง list()\n"
      ],
      "metadata": {
        "id": "-_RPM8OCYcL7"
      }
    },
    {
      "cell_type": "code",
      "source": [
        "list_x1 = [] #แบบที่ 1 \n",
        "list_x2 = list() # แบบที่ 2"
      ],
      "metadata": {
        "id": "U68yxx5zYZoJ"
      },
      "execution_count": null,
      "outputs": []
    },
    {
      "cell_type": "code",
      "source": [
        "print(list_x1)\n",
        "print(list_x2)"
      ],
      "metadata": {
        "colab": {
          "base_uri": "https://localhost:8080/"
        },
        "id": "MV8sRKwGYhaR",
        "outputId": "9d39d717-ca30-4e5d-f880-ffbda6b11a90"
      },
      "execution_count": null,
      "outputs": [
        {
          "output_type": "stream",
          "name": "stdout",
          "text": [
            "[]\n",
            "[]\n"
          ]
        }
      ]
    },
    {
      "cell_type": "markdown",
      "source": [
        "#เพิ่มสมาชิกเข้าไปใน list ด้วย append()\n"
      ],
      "metadata": {
        "id": "EVlrtJ0NYkJK"
      }
    },
    {
      "cell_type": "code",
      "source": [
        "list_x1.append(2) #เพิ่มเลข 2 ลงใน list\n"
      ],
      "metadata": {
        "id": "zfeKDyVqYixE"
      },
      "execution_count": null,
      "outputs": []
    },
    {
      "cell_type": "code",
      "source": [
        "list_x1"
      ],
      "metadata": {
        "colab": {
          "base_uri": "https://localhost:8080/"
        },
        "id": "cgmPrfgnZCOW",
        "outputId": "46427514-f631-45c5-a848-e05272dc5667"
      },
      "execution_count": null,
      "outputs": [
        {
          "output_type": "execute_result",
          "data": {
            "text/plain": [
              "[2, 2]"
            ]
          },
          "metadata": {},
          "execution_count": 21
        }
      ]
    },
    {
      "cell_type": "code",
      "source": [
        "list_x1.append(3) \n",
        "print(list_x1)"
      ],
      "metadata": {
        "colab": {
          "base_uri": "https://localhost:8080/"
        },
        "id": "X4St2kz9ZMbj",
        "outputId": "e37ee505-db92-41fd-eedb-a42d48ee9c99"
      },
      "execution_count": null,
      "outputs": [
        {
          "output_type": "stream",
          "name": "stdout",
          "text": [
            "[2, 2, 3]\n"
          ]
        }
      ]
    },
    {
      "cell_type": "code",
      "source": [
        "list_x1[0]\n"
      ],
      "metadata": {
        "colab": {
          "base_uri": "https://localhost:8080/"
        },
        "id": "LrI7lsilZTqx",
        "outputId": "cd34e71d-ff6d-43ea-8b33-a26217e874c1"
      },
      "execution_count": null,
      "outputs": [
        {
          "output_type": "execute_result",
          "data": {
            "text/plain": [
              "2"
            ]
          },
          "metadata": {},
          "execution_count": 23
        }
      ]
    },
    {
      "cell_type": "markdown",
      "source": [
        "#ลบสมาชิกใน list\n"
      ],
      "metadata": {
        "id": "Iq3prybEZZxp"
      }
    },
    {
      "cell_type": "code",
      "source": [
        "list_x2.append('ha')\n"
      ],
      "metadata": {
        "id": "9Z-yG6BQZY5v"
      },
      "execution_count": null,
      "outputs": []
    },
    {
      "cell_type": "code",
      "source": [
        "list_x2\n"
      ],
      "metadata": {
        "colab": {
          "base_uri": "https://localhost:8080/"
        },
        "id": "8j2e3Yu3ZckV",
        "outputId": "21dbc39f-9ed1-4433-a42c-fbb67726aec6"
      },
      "execution_count": null,
      "outputs": [
        {
          "output_type": "execute_result",
          "data": {
            "text/plain": [
              "['ha', 'ha']"
            ]
          },
          "metadata": {},
          "execution_count": 26
        }
      ]
    },
    {
      "cell_type": "code",
      "source": [
        "list_x1.pop() #ลบหลังสุด\n"
      ],
      "metadata": {
        "colab": {
          "base_uri": "https://localhost:8080/"
        },
        "id": "EdUMYf-vZexd",
        "outputId": "bfffc805-4f0d-43d6-d8d5-8caff77c3c91"
      },
      "execution_count": null,
      "outputs": [
        {
          "output_type": "execute_result",
          "data": {
            "text/plain": [
              "3"
            ]
          },
          "metadata": {},
          "execution_count": 27
        }
      ]
    },
    {
      "cell_type": "code",
      "source": [
        "list_x1"
      ],
      "metadata": {
        "colab": {
          "base_uri": "https://localhost:8080/"
        },
        "id": "djF33r1eZkrg",
        "outputId": "c1237480-bfcf-4099-bf50-66fdd72dac8a"
      },
      "execution_count": null,
      "outputs": [
        {
          "output_type": "execute_result",
          "data": {
            "text/plain": [
              "[2, 2]"
            ]
          },
          "metadata": {},
          "execution_count": 28
        }
      ]
    },
    {
      "cell_type": "code",
      "source": [
        "list_x1.pop()\n",
        "print(list_x1)"
      ],
      "metadata": {
        "colab": {
          "base_uri": "https://localhost:8080/"
        },
        "id": "yWT_QWsBZnRi",
        "outputId": "993bc349-d6ef-45b4-f9ea-65b829e32d94"
      },
      "execution_count": null,
      "outputs": [
        {
          "output_type": "stream",
          "name": "stdout",
          "text": [
            "[2]\n"
          ]
        }
      ]
    },
    {
      "cell_type": "markdown",
      "source": [
        "#len() ตรวจสอบจำนวนสมาชิก\n"
      ],
      "metadata": {
        "id": "MOv1xD9oZvx3"
      }
    },
    {
      "cell_type": "code",
      "source": [
        "print(list_b)\n",
        "print(len(list_b))"
      ],
      "metadata": {
        "colab": {
          "base_uri": "https://localhost:8080/"
        },
        "id": "1V0XDNlSZpjC",
        "outputId": "52426df2-ba27-4795-fc6a-08de01e6a350"
      },
      "execution_count": null,
      "outputs": [
        {
          "output_type": "stream",
          "name": "stdout",
          "text": [
            "['ab', 2, 3.14, [1, 2, 3, 4, 5, 6]]\n",
            "4\n"
          ]
        }
      ]
    },
    {
      "cell_type": "code",
      "source": [
        "len(list_a)\n"
      ],
      "metadata": {
        "colab": {
          "base_uri": "https://localhost:8080/"
        },
        "id": "eN_TgPC5ZzDW",
        "outputId": "40d199cb-2e97-4150-b2a7-afe739613c88"
      },
      "execution_count": null,
      "outputs": [
        {
          "output_type": "execute_result",
          "data": {
            "text/plain": [
              "6"
            ]
          },
          "metadata": {},
          "execution_count": 31
        }
      ]
    },
    {
      "cell_type": "markdown",
      "source": [
        "## Sting is a list of characters"
      ],
      "metadata": {
        "id": "GsBwvmQOZ4dy"
      }
    },
    {
      "cell_type": "code",
      "source": [
        "st_stat = 'Department of Statistics, Faculty of Science'\n"
      ],
      "metadata": {
        "id": "prBrNmg2Z06C"
      },
      "execution_count": null,
      "outputs": []
    },
    {
      "cell_type": "code",
      "source": [
        "st_stat[10]\n"
      ],
      "metadata": {
        "colab": {
          "base_uri": "https://localhost:8080/",
          "height": 35
        },
        "id": "cZBKpkyBaDbC",
        "outputId": "64e853af-4673-43ed-fad8-6b504ff864d6"
      },
      "execution_count": null,
      "outputs": [
        {
          "output_type": "execute_result",
          "data": {
            "application/vnd.google.colaboratory.intrinsic+json": {
              "type": "string"
            },
            "text/plain": [
              "' '"
            ]
          },
          "metadata": {},
          "execution_count": 33
        }
      ]
    },
    {
      "cell_type": "code",
      "source": [
        "len(st_stat)\n"
      ],
      "metadata": {
        "colab": {
          "base_uri": "https://localhost:8080/"
        },
        "id": "abeEN7X0aEd5",
        "outputId": "24ae8991-4cce-407c-955a-60d51059afc4"
      },
      "execution_count": null,
      "outputs": [
        {
          "output_type": "execute_result",
          "data": {
            "text/plain": [
              "44"
            ]
          },
          "metadata": {},
          "execution_count": 34
        }
      ]
    },
    {
      "cell_type": "markdown",
      "source": [
        "-  `list[จุด เริ่มต้น (ทืบ) :จุดสุดท้าย (โปร่ง)]`\n",
        "- `list[จุดเริ่มต้น:จุดสุดท้าย:step]`"
      ],
      "metadata": {
        "id": "6kVsdiwMaHKl"
      }
    },
    {
      "cell_type": "code",
      "source": [
        "list_a"
      ],
      "metadata": {
        "colab": {
          "base_uri": "https://localhost:8080/"
        },
        "id": "ZoCm-F7eaFbi",
        "outputId": "e6235a84-9468-49de-a86a-8320660f4df4"
      },
      "execution_count": null,
      "outputs": [
        {
          "output_type": "execute_result",
          "data": {
            "text/plain": [
              "[1, 2, 3, 4, 5, 6]"
            ]
          },
          "metadata": {},
          "execution_count": 35
        }
      ]
    },
    {
      "cell_type": "code",
      "source": [
        "list_a[2]"
      ],
      "metadata": {
        "colab": {
          "base_uri": "https://localhost:8080/"
        },
        "id": "B3NfzVzra_3z",
        "outputId": "2941be6f-cd66-4c79-e43a-d4e6d77d60ac"
      },
      "execution_count": null,
      "outputs": [
        {
          "output_type": "execute_result",
          "data": {
            "text/plain": [
              "3"
            ]
          },
          "metadata": {},
          "execution_count": 36
        }
      ]
    },
    {
      "cell_type": "markdown",
      "source": [
        "# : colon"
      ],
      "metadata": {
        "id": "Ww3rqwWPbDL2"
      }
    },
    {
      "cell_type": "code",
      "source": [
        "list_a[:4] #เอาตัวก่อนหน้าตำแหน่งที่ 4"
      ],
      "metadata": {
        "colab": {
          "base_uri": "https://localhost:8080/"
        },
        "id": "2hX_6KtSbAzn",
        "outputId": "052a406a-8427-450a-ef3a-c45704492b85"
      },
      "execution_count": null,
      "outputs": [
        {
          "output_type": "execute_result",
          "data": {
            "text/plain": [
              "[1, 2, 3, 4]"
            ]
          },
          "metadata": {},
          "execution_count": 37
        }
      ]
    },
    {
      "cell_type": "code",
      "source": [
        "list_a[-3:] # colon เอา3 ตัวจากหลังมาหน้า"
      ],
      "metadata": {
        "colab": {
          "base_uri": "https://localhost:8080/"
        },
        "id": "FvZg7UN5bIXW",
        "outputId": "e3505af6-f43c-4aea-dab8-7d729e8ee861"
      },
      "execution_count": null,
      "outputs": [
        {
          "output_type": "execute_result",
          "data": {
            "text/plain": [
              "[4, 5, 6]"
            ]
          },
          "metadata": {},
          "execution_count": 38
        }
      ]
    },
    {
      "cell_type": "code",
      "source": [
        "list_a[1:4] # เริ่มจากตำแหน่ง 1(แต่ไม่เอาตำแหน่งที่1 ) ถึง 4"
      ],
      "metadata": {
        "colab": {
          "base_uri": "https://localhost:8080/"
        },
        "id": "d7_xGTufbOny",
        "outputId": "180933d0-65dc-4250-9f53-e442fe21b8ab"
      },
      "execution_count": null,
      "outputs": [
        {
          "output_type": "execute_result",
          "data": {
            "text/plain": [
              "[2, 3, 4]"
            ]
          },
          "metadata": {},
          "execution_count": 39
        }
      ]
    },
    {
      "cell_type": "code",
      "source": [
        "list_a[:]"
      ],
      "metadata": {
        "colab": {
          "base_uri": "https://localhost:8080/"
        },
        "id": "85mkzBH_cHEQ",
        "outputId": "835fcec8-c5f4-4b50-9ac9-9dcf15770173"
      },
      "execution_count": null,
      "outputs": [
        {
          "output_type": "execute_result",
          "data": {
            "text/plain": [
              "[1, 2, 3, 4, 5, 6]"
            ]
          },
          "metadata": {},
          "execution_count": 40
        }
      ]
    },
    {
      "cell_type": "markdown",
      "source": [
        "# step\n"
      ],
      "metadata": {
        "id": "ebHNMrlocR_q"
      }
    },
    {
      "cell_type": "code",
      "source": [
        "list_c = [1,2,3,4,5,6,7,8,9,10,11,12,13,14,15]"
      ],
      "metadata": {
        "id": "WpREpohLcIW_"
      },
      "execution_count": null,
      "outputs": []
    },
    {
      "cell_type": "code",
      "source": [
        "list_c[:10:]"
      ],
      "metadata": {
        "colab": {
          "base_uri": "https://localhost:8080/"
        },
        "id": "M4kbfllDcm8r",
        "outputId": "658f2692-4e3d-45c5-f02f-6a3e1cf1e7ae"
      },
      "execution_count": null,
      "outputs": [
        {
          "output_type": "execute_result",
          "data": {
            "text/plain": [
              "[1, 2, 3, 4, 5, 6, 7, 8, 9, 10]"
            ]
          },
          "metadata": {},
          "execution_count": 42
        }
      ]
    },
    {
      "cell_type": "code",
      "source": [
        "list_c[:10:2] #เอาถึงตำแหน่ง 10 และห่างกันตำแหน่งที่ 2"
      ],
      "metadata": {
        "colab": {
          "base_uri": "https://localhost:8080/"
        },
        "id": "JMQiuazDcyQo",
        "outputId": "7afe15b4-10da-40e0-a869-2dbc66181af8"
      },
      "execution_count": null,
      "outputs": [
        {
          "output_type": "execute_result",
          "data": {
            "text/plain": [
              "[1, 3, 5, 7, 9]"
            ]
          },
          "metadata": {},
          "execution_count": 43
        }
      ]
    },
    {
      "cell_type": "code",
      "source": [
        "list_c[::-1]"
      ],
      "metadata": {
        "colab": {
          "base_uri": "https://localhost:8080/"
        },
        "id": "Q6EqiaR-c3TD",
        "outputId": "74529673-0854-4678-9062-f7d194bbd8df"
      },
      "execution_count": null,
      "outputs": [
        {
          "output_type": "execute_result",
          "data": {
            "text/plain": [
              "[15, 14, 13, 12, 11, 10, 9, 8, 7, 6, 5, 4, 3, 2, 1]"
            ]
          },
          "metadata": {},
          "execution_count": 44
        }
      ]
    },
    {
      "cell_type": "markdown",
      "source": [
        "# range()"
      ],
      "metadata": {
        "id": "Z33ZltG1dDpX"
      }
    },
    {
      "cell_type": "code",
      "source": [
        "a= list(range(21))"
      ],
      "metadata": {
        "id": "4iVnfSUWdBcG"
      },
      "execution_count": null,
      "outputs": []
    },
    {
      "cell_type": "code",
      "source": [
        "a"
      ],
      "metadata": {
        "colab": {
          "base_uri": "https://localhost:8080/"
        },
        "id": "RSJKXPTLdNlX",
        "outputId": "4916a2ef-2820-4d44-c266-3fa6bdcfb0e2"
      },
      "execution_count": null,
      "outputs": [
        {
          "output_type": "execute_result",
          "data": {
            "text/plain": [
              "[0, 1, 2, 3, 4, 5, 6, 7, 8, 9, 10, 11, 12, 13, 14, 15, 16, 17, 18, 19, 20]"
            ]
          },
          "metadata": {},
          "execution_count": 46
        }
      ]
    },
    {
      "cell_type": "code",
      "source": [
        "range(21) #เพิ่มเลขจะได้เลข0-21"
      ],
      "metadata": {
        "colab": {
          "base_uri": "https://localhost:8080/"
        },
        "id": "_-nZBvNYdOue",
        "outputId": "e7055582-3099-4337-b426-fc4a0c78c362"
      },
      "execution_count": null,
      "outputs": [
        {
          "output_type": "execute_result",
          "data": {
            "text/plain": [
              "range(0, 21)"
            ]
          },
          "metadata": {},
          "execution_count": 47
        }
      ]
    },
    {
      "cell_type": "code",
      "source": [
        "list(range(1,21)) #กำหนดตั้งแต่ใส่เลข 1-21"
      ],
      "metadata": {
        "colab": {
          "base_uri": "https://localhost:8080/"
        },
        "id": "3hU6g4BadYRr",
        "outputId": "4f3af983-d9d9-445a-9544-55a1baf09d07"
      },
      "execution_count": null,
      "outputs": [
        {
          "output_type": "execute_result",
          "data": {
            "text/plain": [
              "[1, 2, 3, 4, 5, 6, 7, 8, 9, 10, 11, 12, 13, 14, 15, 16, 17, 18, 19, 20]"
            ]
          },
          "metadata": {},
          "execution_count": 48
        }
      ]
    },
    {
      "cell_type": "markdown",
      "source": [
        "###HW2 คำนวณเวลาเป็นวินาทีของเวลาต่อไปนี้โดยใช้คำสั่ง split() ช่วย (print ออกมาให้สวยงาม)\n",
        "- 12:30:15\n",
        "- 13:41:07\n",
        "- 21:30:15\n",
        "- 01:10:15"
      ],
      "metadata": {
        "id": "SnuL3bEFe0ZN"
      }
    },
    {
      "cell_type": "code",
      "source": [
        "# EX 01:02:03\n",
        "\n",
        "a= (1*60*60) + (2*60)+(3)\n",
        "print(f'01:02:03 แปลงเป็นวินาทีได้ {a} วินาที')"
      ],
      "metadata": {
        "colab": {
          "base_uri": "https://localhost:8080/"
        },
        "id": "iogPBb4mdaDn",
        "outputId": "863e2c8a-401c-4b42-81fb-4b9f0f2ab029"
      },
      "execution_count": null,
      "outputs": [
        {
          "output_type": "stream",
          "name": "stdout",
          "text": [
            "01:02:03 แปลงเป็นวินาทีได้ 3723 วินาที\n"
          ]
        }
      ]
    },
    {
      "cell_type": "code",
      "source": [
        "# ข้อ1 12:30:15\n",
        "a = '12:30:15' \n",
        "a_1 = a.split(':') # แยกตัวแปรโดยแย่งตรงแบ่ง : \n",
        "ans1 = int(a_1[0])*60*60 + int(a_1[1])*60 + int(a_1[2]) # แปลงข้อมูลให้เป็น int + กัน\n",
        "print(f'เวลา 12:30:15 แปลงเป็นวินาทีได้ {ans1} วินาที')"
      ],
      "metadata": {
        "colab": {
          "base_uri": "https://localhost:8080/"
        },
        "id": "l1ShHxfmfANe",
        "outputId": "7032fa10-8b32-4a56-84b0-7734a277e12c"
      },
      "execution_count": null,
      "outputs": [
        {
          "output_type": "stream",
          "name": "stdout",
          "text": [
            "เวลา 12:30:15 แปลงเป็นวินาทีได้ 45015 วินาที\n"
          ]
        }
      ]
    },
    {
      "cell_type": "code",
      "source": [
        "# ข้อ2 13:41:07\n",
        "a = '13:41:07' \n",
        "a_2 = a.split(':')   # แยกตัวแปรโดยแย่งตรงแบ่ง :\n",
        "ans2 = int(a_2[0])*60*60 + int(a_2[1])*60 + int(a_2[2])    # แปลงข้อมูลให้เป็น int + กัน\n",
        "print(f'เวลา13:41:07 แปลงเป็นวินาทีได้ {ans2} วินาที')"
      ],
      "metadata": {
        "colab": {
          "base_uri": "https://localhost:8080/"
        },
        "id": "8GysrgIGgdL0",
        "outputId": "5097f2e6-cc8a-478a-b6b5-e3564de59b8d"
      },
      "execution_count": null,
      "outputs": [
        {
          "output_type": "stream",
          "name": "stdout",
          "text": [
            "เวลา13:41:07 แปลงเป็นวินาทีได้ 49267 วินาที\n"
          ]
        }
      ]
    },
    {
      "cell_type": "code",
      "source": [
        "# ข้อ3 9:11:50\n",
        "a = '9:11:50'\n",
        "a_3 = a.split(':') # แยกตัวแปรโดยแย่งตรงแบ่ง :\n",
        "ans3 = int(a_3[0])*60*60 + int(a_3[1])*60 + int(a_3[2])   # แปลงข้อมูลให้เป็น int + กัน\n",
        "print(f'เวลา 9:11:50 แปลงเป็นวินาทีได้ {ans3} วินาที')"
      ],
      "metadata": {
        "colab": {
          "base_uri": "https://localhost:8080/"
        },
        "id": "AIDhgTCDsbH6",
        "outputId": "84c1b21e-8606-46bf-a7e2-1a4cf63056d1"
      },
      "execution_count": null,
      "outputs": [
        {
          "output_type": "stream",
          "name": "stdout",
          "text": [
            "เวลา 9:11:50 แปลงเป็นวินาทีได้ 33110 วินาที\n"
          ]
        }
      ]
    },
    {
      "cell_type": "code",
      "source": [
        "# ข้อ4 21:30:15\n",
        "a = '21:30:15'\n",
        "a_4 = a.split(':') # แยกตัวแปรโดยแย่งตรงแบ่ง :\n",
        "ans4 = int(a_4[0])*60*60 + int(a_4[1])*60 + int(a_4[2])   # แปลงข้อมูลให้เป็น int + กัน\n",
        "print(f'เวลา 21:30:15 แปลงเป็นวินาทีได้ {ans4} วินาที')"
      ],
      "metadata": {
        "colab": {
          "base_uri": "https://localhost:8080/"
        },
        "id": "1XE3d5A1hdCg",
        "outputId": "70e6a21b-f551-40ad-8afd-4560b22fbf02"
      },
      "execution_count": null,
      "outputs": [
        {
          "output_type": "stream",
          "name": "stdout",
          "text": [
            "เวลา 21:30:15 แปลงเป็นวินาทีได้ 77415 วินาที\n"
          ]
        }
      ]
    },
    {
      "cell_type": "code",
      "source": [
        "# ข้อ5 03:10:15\n",
        "a = '03:10:15'\n",
        "a_5 = a.split(':') # แยกตัวแปรโดยแย่งตรงแบ่ง :\n",
        "ans5 = int(a_5[0])*60*60 + int(a_5[1])*60 + int(a_5[2]) # แปลงข้อมูลให้เป็น int + กัน\n",
        "print(f'เวลา 03:10:15 แปลงเป็นวินาทีได้ {ans5} วินาที')"
      ],
      "metadata": {
        "colab": {
          "base_uri": "https://localhost:8080/"
        },
        "id": "VrGQi9Nohyy5",
        "outputId": "5645be9b-5653-43d2-eb26-4f2e606a192d"
      },
      "execution_count": null,
      "outputs": [
        {
          "output_type": "stream",
          "name": "stdout",
          "text": [
            "เวลา 03:10:15 แปลงเป็นวินาทีได้ 11415 วินาที\n"
          ]
        }
      ]
    },
    {
      "cell_type": "code",
      "source": [
        ""
      ],
      "metadata": {
        "id": "uYINc61fiEFb"
      },
      "execution_count": null,
      "outputs": []
    },
    {
      "cell_type": "markdown",
      "source": [
        "###Dictionary\n",
        "- คล้าย list()\n",
        "- index เป็นอะไรก็ได้ ไม่จำเป็นต้องเป็นตัวลำดับ\n",
        "- ลำดับไม่มีความสำคัญ\n"
      ],
      "metadata": {
        "id": "8mLUMj26bPP4"
      }
    },
    {
      "cell_type": "markdown",
      "source": [
        "### สร้าง Dictionary"
      ],
      "metadata": {
        "id": "VRR9Ple5bzOf"
      }
    },
    {
      "cell_type": "markdown",
      "source": [
        "### การชี้ สมาชิกใน DIctionary"
      ],
      "metadata": {
        "id": "NrbluGrRb3ib"
      }
    },
    {
      "cell_type": "code",
      "source": [
        "dict_a = {1:'Happy','N':'New','2022':'Year'} # { } curly brackets"
      ],
      "metadata": {
        "id": "FFG48jNWb0_a"
      },
      "execution_count": 5,
      "outputs": []
    },
    {
      "cell_type": "code",
      "source": [
        "dict_a[1]"
      ],
      "metadata": {
        "id": "ASnaQuCrb6s0",
        "outputId": "2f018fae-4eec-4ef0-9286-01d563ea45dc",
        "colab": {
          "base_uri": "https://localhost:8080/",
          "height": 35
        }
      },
      "execution_count": 6,
      "outputs": [
        {
          "output_type": "execute_result",
          "data": {
            "application/vnd.google.colaboratory.intrinsic+json": {
              "type": "string"
            },
            "text/plain": [
              "'Happy'"
            ]
          },
          "metadata": {},
          "execution_count": 6
        }
      ]
    },
    {
      "cell_type": "code",
      "source": [
        "dict_a['N']"
      ],
      "metadata": {
        "id": "NCBa3ugycNWD",
        "outputId": "ea4c8fe1-5445-4b60-ea68-5693555191c2",
        "colab": {
          "base_uri": "https://localhost:8080/",
          "height": 35
        }
      },
      "execution_count": 7,
      "outputs": [
        {
          "output_type": "execute_result",
          "data": {
            "application/vnd.google.colaboratory.intrinsic+json": {
              "type": "string"
            },
            "text/plain": [
              "'New'"
            ]
          },
          "metadata": {},
          "execution_count": 7
        }
      ]
    },
    {
      "cell_type": "code",
      "source": [
        "dict_a[\"2022\"]"
      ],
      "metadata": {
        "id": "yk7iiWF6cPly",
        "outputId": "c2406237-5b3b-4c5c-8cc7-7ea176b20022",
        "colab": {
          "base_uri": "https://localhost:8080/",
          "height": 35
        }
      },
      "execution_count": 8,
      "outputs": [
        {
          "output_type": "execute_result",
          "data": {
            "application/vnd.google.colaboratory.intrinsic+json": {
              "type": "string"
            },
            "text/plain": [
              "'Year'"
            ]
          },
          "metadata": {},
          "execution_count": 8
        }
      ]
    },
    {
      "cell_type": "code",
      "source": [
        "dict_a.keys() #.keys() เรียกดูสมาชิกทั้งหมดว่ามีตัวแปรอะไรบ้าง"
      ],
      "metadata": {
        "id": "uxGoe5V4cQ2a",
        "outputId": "10d2a58d-73c8-452c-89f2-b740e1f7e66c",
        "colab": {
          "base_uri": "https://localhost:8080/"
        }
      },
      "execution_count": 9,
      "outputs": [
        {
          "output_type": "execute_result",
          "data": {
            "text/plain": [
              "dict_keys([1, 'N', '2022'])"
            ]
          },
          "metadata": {},
          "execution_count": 9
        }
      ]
    },
    {
      "cell_type": "code",
      "source": [
        "dict_a.values() # .values() บอกความหมายที่อยู่ใน dict"
      ],
      "metadata": {
        "id": "fn4h7vFKcY1y",
        "outputId": "14580d50-a310-4f3d-d283-ad395e4f1db1",
        "colab": {
          "base_uri": "https://localhost:8080/"
        }
      },
      "execution_count": 10,
      "outputs": [
        {
          "output_type": "execute_result",
          "data": {
            "text/plain": [
              "dict_values(['Happy', 'New', 'Year'])"
            ]
          },
          "metadata": {},
          "execution_count": 10
        }
      ]
    },
    {
      "cell_type": "markdown",
      "source": [
        "### การเพิ่มสมาชิกลงไปใน DIctionary"
      ],
      "metadata": {
        "id": "Xdp9A0R4clHf"
      }
    },
    {
      "cell_type": "code",
      "source": [
        "dict_a[7] = 3.14"
      ],
      "metadata": {
        "id": "VMkxoTcocluJ"
      },
      "execution_count": 12,
      "outputs": []
    },
    {
      "cell_type": "code",
      "source": [
        "dict_a"
      ],
      "metadata": {
        "id": "2s0xCrChcps0",
        "outputId": "4d73ab7e-c353-4e94-ab7e-753eb5323e46",
        "colab": {
          "base_uri": "https://localhost:8080/"
        }
      },
      "execution_count": 13,
      "outputs": [
        {
          "output_type": "execute_result",
          "data": {
            "text/plain": [
              "{1: 'Happy', '2022': 'Year', 7: 3.14, 'N': 'New'}"
            ]
          },
          "metadata": {},
          "execution_count": 13
        }
      ]
    },
    {
      "cell_type": "code",
      "source": [
        "dict_a[\"N\"] = \"NNNNEWWWW\""
      ],
      "metadata": {
        "id": "J-CVHgMccqwm"
      },
      "execution_count": 14,
      "outputs": []
    },
    {
      "cell_type": "code",
      "source": [
        "dict_a # เมื่อใช้ index ซ้ำมันค่าบันทึกค่าใหม่แทนที่ค่าเดิม"
      ],
      "metadata": {
        "id": "PjKWLJ36c7TU",
        "outputId": "ffe1775e-37f0-4527-c222-142792709cde",
        "colab": {
          "base_uri": "https://localhost:8080/"
        }
      },
      "execution_count": 15,
      "outputs": [
        {
          "output_type": "execute_result",
          "data": {
            "text/plain": [
              "{1: 'Happy', '2022': 'Year', 7: 3.14, 'N': 'NNNNEWWWW'}"
            ]
          },
          "metadata": {},
          "execution_count": 15
        }
      ]
    },
    {
      "cell_type": "markdown",
      "source": [
        "## Numpy Array"
      ],
      "metadata": {
        "id": "mQD3ES-udDdF"
      }
    },
    {
      "cell_type": "markdown",
      "source": [
        "- เก็บได้แค่ตัวเลข\n",
        "- อ้างอิงโดยใช้พิกัด (2มิติ ก็มองเป็น Matrix)"
      ],
      "metadata": {
        "id": "i4kowcXzfFav"
      }
    },
    {
      "cell_type": "code",
      "source": [
        "import numpy # ใช้code ของคนอื่นที่เขียนไว้"
      ],
      "metadata": {
        "id": "_WDxK_ELdUXF"
      },
      "execution_count": 18,
      "outputs": []
    },
    {
      "cell_type": "markdown",
      "source": [
        "### 1D array"
      ],
      "metadata": {
        "id": "NbIrSQBYfa5Y"
      }
    },
    {
      "cell_type": "code",
      "source": [
        "arr_a = numpy.array([1,2,3,4,5])"
      ],
      "metadata": {
        "id": "pJ7il4x2fazW"
      },
      "execution_count": 20,
      "outputs": []
    },
    {
      "cell_type": "code",
      "source": [
        "arr_a"
      ],
      "metadata": {
        "id": "8GrftFqOfjwF",
        "outputId": "b0eaf237-298b-4845-ec6a-cf4c270d754b",
        "colab": {
          "base_uri": "https://localhost:8080/"
        }
      },
      "execution_count": 21,
      "outputs": [
        {
          "output_type": "execute_result",
          "data": {
            "text/plain": [
              "array([1, 2, 3, 4, 5])"
            ]
          },
          "metadata": {},
          "execution_count": 21
        }
      ]
    },
    {
      "cell_type": "code",
      "source": [
        "arr_a[0]"
      ],
      "metadata": {
        "id": "-lidfMW4fkvq",
        "outputId": "3aaf2627-afd0-4eef-a0ee-daa6d76cbef5",
        "colab": {
          "base_uri": "https://localhost:8080/"
        }
      },
      "execution_count": 22,
      "outputs": [
        {
          "output_type": "execute_result",
          "data": {
            "text/plain": [
              "1"
            ]
          },
          "metadata": {},
          "execution_count": 22
        }
      ]
    },
    {
      "cell_type": "code",
      "source": [
        "list_A = [5,6,7,8,9] # ใช้ list ได้เหมือนกัน\n",
        "arr_b = numpy.array(list_A)\n",
        "arr_b"
      ],
      "metadata": {
        "id": "J7dGiIXefmIT",
        "outputId": "9e541385-9cca-4461-b333-b4a786e4eb51",
        "colab": {
          "base_uri": "https://localhost:8080/"
        }
      },
      "execution_count": 23,
      "outputs": [
        {
          "output_type": "execute_result",
          "data": {
            "text/plain": [
              "array([5, 6, 7, 8, 9])"
            ]
          },
          "metadata": {},
          "execution_count": 23
        }
      ]
    },
    {
      "cell_type": "code",
      "source": [
        "5 * arr_a # Matrix (scalar multiplication)"
      ],
      "metadata": {
        "id": "L_mhMfu9fnrK",
        "outputId": "c55d07a1-faf4-4213-eb67-450196cf5ec9",
        "colab": {
          "base_uri": "https://localhost:8080/"
        }
      },
      "execution_count": 24,
      "outputs": [
        {
          "output_type": "execute_result",
          "data": {
            "text/plain": [
              "array([ 5, 10, 15, 20, 25])"
            ]
          },
          "metadata": {},
          "execution_count": 24
        }
      ]
    },
    {
      "cell_type": "code",
      "source": [
        "5*list_A # list จะต่างกับ arr ตรงนี้"
      ],
      "metadata": {
        "id": "lOB_JDy0fxrx",
        "outputId": "f34a2474-d2c8-4df7-d32f-e15dc57a5b8a",
        "colab": {
          "base_uri": "https://localhost:8080/"
        }
      },
      "execution_count": 25,
      "outputs": [
        {
          "output_type": "execute_result",
          "data": {
            "text/plain": [
              "[5, 6, 7, 8, 9, 5, 6, 7, 8, 9, 5, 6, 7, 8, 9, 5, 6, 7, 8, 9, 5, 6, 7, 8, 9]"
            ]
          },
          "metadata": {},
          "execution_count": 25
        }
      ]
    },
    {
      "cell_type": "code",
      "source": [
        "arr_c = numpy.array([10,20,30,40,50])"
      ],
      "metadata": {
        "id": "hVu74otIfy-o"
      },
      "execution_count": 26,
      "outputs": []
    },
    {
      "cell_type": "code",
      "source": [
        "print(arr_a)"
      ],
      "metadata": {
        "id": "LG7Hxg1Rf0f0",
        "outputId": "a272519b-3bb4-41c6-92c5-a33aab276730",
        "colab": {
          "base_uri": "https://localhost:8080/"
        }
      },
      "execution_count": 27,
      "outputs": [
        {
          "output_type": "stream",
          "name": "stdout",
          "text": [
            "[1 2 3 4 5]\n"
          ]
        }
      ]
    },
    {
      "cell_type": "code",
      "source": [
        "arr_a + arr_c #matrix บวก matrix "
      ],
      "metadata": {
        "id": "dYdH2FjMf2zS",
        "outputId": "5f74f6b2-ebbe-4ea7-cad1-a80652dccdc2",
        "colab": {
          "base_uri": "https://localhost:8080/"
        }
      },
      "execution_count": 28,
      "outputs": [
        {
          "output_type": "execute_result",
          "data": {
            "text/plain": [
              "array([11, 22, 33, 44, 55])"
            ]
          },
          "metadata": {},
          "execution_count": 28
        }
      ]
    },
    {
      "cell_type": "code",
      "source": [
        "arr_a.shape"
      ],
      "metadata": {
        "id": "s54PSdfNf7R7",
        "outputId": "04975769-33c1-43b9-87fc-e6d0eb0e86f7",
        "colab": {
          "base_uri": "https://localhost:8080/"
        }
      },
      "execution_count": 29,
      "outputs": [
        {
          "output_type": "execute_result",
          "data": {
            "text/plain": [
              "(5,)"
            ]
          },
          "metadata": {},
          "execution_count": 29
        }
      ]
    },
    {
      "cell_type": "markdown",
      "source": [
        "### 2D arrary"
      ],
      "metadata": {
        "id": "arhjhWY0gBBx"
      }
    },
    {
      "cell_type": "code",
      "source": [
        "import numpy as np # import แต่เปลี่ยนชื่อให้มันสั้นสะดวกต่อการพิมพ์"
      ],
      "metadata": {
        "id": "ittgqfUtf-nO"
      },
      "execution_count": 31,
      "outputs": []
    },
    {
      "cell_type": "code",
      "source": [
        "arr2_z = np.array([[1,2,3],[4,5,6]])"
      ],
      "metadata": {
        "id": "rFMXHM7-gIhN"
      },
      "execution_count": 32,
      "outputs": []
    },
    {
      "cell_type": "code",
      "source": [
        "arr2_z"
      ],
      "metadata": {
        "id": "nLoUw9EXgJvF",
        "outputId": "41e019ac-bc12-4313-8035-45b47f349716",
        "colab": {
          "base_uri": "https://localhost:8080/"
        }
      },
      "execution_count": 33,
      "outputs": [
        {
          "output_type": "execute_result",
          "data": {
            "text/plain": [
              "array([[1, 2, 3],\n",
              "       [4, 5, 6]])"
            ]
          },
          "metadata": {},
          "execution_count": 33
        }
      ]
    },
    {
      "cell_type": "code",
      "source": [
        "arr2_z.shape"
      ],
      "metadata": {
        "id": "b1YAZzf2gLpd",
        "outputId": "75e6bead-d80e-43d4-b18c-de943e71ec48",
        "colab": {
          "base_uri": "https://localhost:8080/"
        }
      },
      "execution_count": 34,
      "outputs": [
        {
          "output_type": "execute_result",
          "data": {
            "text/plain": [
              "(2, 3)"
            ]
          },
          "metadata": {},
          "execution_count": 34
        }
      ]
    },
    {
      "cell_type": "markdown",
      "source": [
        "### np.zeros()"
      ],
      "metadata": {
        "id": "oX4McaphgXql"
      }
    },
    {
      "cell_type": "code",
      "source": [
        "arr2_3_5_0 =np.zeros((3,5))"
      ],
      "metadata": {
        "id": "Nmc4QnvvgY4d"
      },
      "execution_count": 35,
      "outputs": []
    },
    {
      "cell_type": "code",
      "source": [
        "arr2_3_5_0"
      ],
      "metadata": {
        "id": "gjpmcbFUgamt",
        "outputId": "75d80c8a-67c1-458a-fc53-20de11ef873c",
        "colab": {
          "base_uri": "https://localhost:8080/"
        }
      },
      "execution_count": 36,
      "outputs": [
        {
          "output_type": "execute_result",
          "data": {
            "text/plain": [
              "array([[0., 0., 0., 0., 0.],\n",
              "       [0., 0., 0., 0., 0.],\n",
              "       [0., 0., 0., 0., 0.]])"
            ]
          },
          "metadata": {},
          "execution_count": 36
        }
      ]
    },
    {
      "cell_type": "code",
      "source": [
        "arr2_3_5_0[1,2] = 9"
      ],
      "metadata": {
        "id": "_mzkSrzTgcPJ"
      },
      "execution_count": 37,
      "outputs": []
    },
    {
      "cell_type": "code",
      "source": [
        "arr2_3_5_0"
      ],
      "metadata": {
        "id": "XAb1RMpSgeJM",
        "outputId": "6a0b5cde-59f3-4a21-87d6-159027f57a43",
        "colab": {
          "base_uri": "https://localhost:8080/"
        }
      },
      "execution_count": 38,
      "outputs": [
        {
          "output_type": "execute_result",
          "data": {
            "text/plain": [
              "array([[0., 0., 0., 0., 0.],\n",
              "       [0., 0., 9., 0., 0.],\n",
              "       [0., 0., 0., 0., 0.]])"
            ]
          },
          "metadata": {},
          "execution_count": 38
        }
      ]
    },
    {
      "cell_type": "code",
      "source": [
        "arr2_3_5_0[1,2]"
      ],
      "metadata": {
        "id": "3rR_mG2kgfG1",
        "outputId": "eda5294a-4561-479f-9598-10ecc785cd38",
        "colab": {
          "base_uri": "https://localhost:8080/"
        }
      },
      "execution_count": 39,
      "outputs": [
        {
          "output_type": "execute_result",
          "data": {
            "text/plain": [
              "9.0"
            ]
          },
          "metadata": {},
          "execution_count": 39
        }
      ]
    },
    {
      "cell_type": "code",
      "source": [
        "print(list_A)# เปลี่ยน ค่าใน list()\n",
        "list_A[-1] = 'christmas'\n",
        "print(list_A)"
      ],
      "metadata": {
        "id": "SGk7YBEvg9Iu",
        "outputId": "6511f78b-2cf7-44e5-814f-4ed29d0556bb",
        "colab": {
          "base_uri": "https://localhost:8080/"
        }
      },
      "execution_count": 40,
      "outputs": [
        {
          "output_type": "stream",
          "name": "stdout",
          "text": [
            "[5, 6, 7, 8, 9]\n",
            "[5, 6, 7, 8, 'christmas']\n"
          ]
        }
      ]
    },
    {
      "cell_type": "markdown",
      "source": [
        "###  np.ones()"
      ],
      "metadata": {
        "id": "PJnPI7E-hCG4"
      }
    },
    {
      "cell_type": "code",
      "source": [
        "arr2_4_5_1 = np.ones((4,5))"
      ],
      "metadata": {
        "id": "wtaX5NoVg-lV"
      },
      "execution_count": 41,
      "outputs": []
    },
    {
      "cell_type": "code",
      "source": [
        "arr2_4_5_1"
      ],
      "metadata": {
        "id": "OqQQXPYqhIBS",
        "outputId": "470f25fe-e118-430f-fdbd-5be96cd0a5f6",
        "colab": {
          "base_uri": "https://localhost:8080/"
        }
      },
      "execution_count": 42,
      "outputs": [
        {
          "output_type": "execute_result",
          "data": {
            "text/plain": [
              "array([[1., 1., 1., 1., 1.],\n",
              "       [1., 1., 1., 1., 1.],\n",
              "       [1., 1., 1., 1., 1.],\n",
              "       [1., 1., 1., 1., 1.]])"
            ]
          },
          "metadata": {},
          "execution_count": 42
        }
      ]
    },
    {
      "cell_type": "code",
      "source": [
        "arr2_4_5_200 = 200*np.ones((4,5))"
      ],
      "metadata": {
        "id": "5eiSZMd8hJBC"
      },
      "execution_count": 43,
      "outputs": []
    },
    {
      "cell_type": "code",
      "source": [
        "arr2_4_5_200"
      ],
      "metadata": {
        "id": "O9hiILenhN-t",
        "outputId": "97511d9a-8bbe-4de7-eb03-376ede1442cf",
        "colab": {
          "base_uri": "https://localhost:8080/"
        }
      },
      "execution_count": 44,
      "outputs": [
        {
          "output_type": "execute_result",
          "data": {
            "text/plain": [
              "array([[200., 200., 200., 200., 200.],\n",
              "       [200., 200., 200., 200., 200.],\n",
              "       [200., 200., 200., 200., 200.],\n",
              "       [200., 200., 200., 200., 200.]])"
            ]
          },
          "metadata": {},
          "execution_count": 44
        }
      ]
    },
    {
      "cell_type": "markdown",
      "source": [
        "### Matrix operations"
      ],
      "metadata": {
        "id": "6RbdTHOdhWbG"
      }
    },
    {
      "cell_type": "markdown",
      "source": [
        "#### การบวก ลบ matrix $M \\pm N$ บวกลบตัวที่อยู่ตำแหน่งเดียวกัน"
      ],
      "metadata": {
        "id": "XRac7zNAhaw3"
      }
    },
    {
      "cell_type": "code",
      "source": [
        "arr2_4_5_200 + arr2_3_5_0 # บวกลบกันไม่ได้ เพราะ ขนาดไม่เท่ากัน"
      ],
      "metadata": {
        "id": "kIKjZSCahO5W",
        "outputId": "f3c488f3-bf43-4a67-8c47-e66334176120",
        "colab": {
          "base_uri": "https://localhost:8080/",
          "height": 166
        }
      },
      "execution_count": 45,
      "outputs": [
        {
          "output_type": "error",
          "ename": "ValueError",
          "evalue": "ignored",
          "traceback": [
            "\u001b[0;31m---------------------------------------------------------------------------\u001b[0m",
            "\u001b[0;31mValueError\u001b[0m                                Traceback (most recent call last)",
            "\u001b[0;32m<ipython-input-45-abd0b1a49a01>\u001b[0m in \u001b[0;36m<module>\u001b[0;34m()\u001b[0m\n\u001b[0;32m----> 1\u001b[0;31m \u001b[0marr2_4_5_200\u001b[0m \u001b[0;34m+\u001b[0m \u001b[0marr2_3_5_0\u001b[0m \u001b[0;31m# บวกลบกันไม่ได้ เพราะ ขนาดไม่เท่ากัน\u001b[0m\u001b[0;34m\u001b[0m\u001b[0;34m\u001b[0m\u001b[0m\n\u001b[0m",
            "\u001b[0;31mValueError\u001b[0m: operands could not be broadcast together with shapes (4,5) (3,5) "
          ]
        }
      ]
    },
    {
      "cell_type": "code",
      "source": [
        "arr2_4_5_200 + arr2_4_5_1"
      ],
      "metadata": {
        "id": "938EqD4uheG4",
        "outputId": "a8683c0b-81da-4ddb-fcaa-dedf7a200e0b",
        "colab": {
          "base_uri": "https://localhost:8080/"
        }
      },
      "execution_count": 46,
      "outputs": [
        {
          "output_type": "execute_result",
          "data": {
            "text/plain": [
              "array([[201., 201., 201., 201., 201.],\n",
              "       [201., 201., 201., 201., 201.],\n",
              "       [201., 201., 201., 201., 201.],\n",
              "       [201., 201., 201., 201., 201.]])"
            ]
          },
          "metadata": {},
          "execution_count": 46
        }
      ]
    },
    {
      "cell_type": "markdown",
      "source": [
        "#### การคูณ matrix \n",
        "- $aM$  scalar คูณ Matrix (scalar คูณกระจายเข้าไปทุกตัวของ Matrix) \n",
        "- $M \\times N$คูณ Matrix (แถวคูณหลัก)"
      ],
      "metadata": {
        "id": "NfG6igyLhp8R"
      }
    },
    {
      "cell_type": "markdown",
      "source": [
        "$aM$"
      ],
      "metadata": {
        "id": "gl17D0H7h4Hh"
      }
    },
    {
      "cell_type": "code",
      "source": [
        "5 * arr_a"
      ],
      "metadata": {
        "id": "FaunaBAshnKh",
        "outputId": "f6a06f35-8f35-4a98-8f33-c2f2be6421dc",
        "colab": {
          "base_uri": "https://localhost:8080/"
        }
      },
      "execution_count": 47,
      "outputs": [
        {
          "output_type": "execute_result",
          "data": {
            "text/plain": [
              "array([ 5, 10, 15, 20, 25])"
            ]
          },
          "metadata": {},
          "execution_count": 47
        }
      ]
    },
    {
      "cell_type": "markdown",
      "source": [
        "$M \\times N$\n",
        "- (m,n) $\\times$ (n,o) = (m,o)"
      ],
      "metadata": {
        "id": "m7gkBz7hiGWi"
      }
    },
    {
      "cell_type": "code",
      "source": [
        "mat_a = np.array([[2,3,5],[4,6,7]])\n",
        "mat_b = np.array([[1,2,5],[2,4,-7]])\n",
        "mat_c = np.array([[2,3,],[4,6],[7,9]])"
      ],
      "metadata": {
        "id": "CygLSQNxiKuB"
      },
      "execution_count": 48,
      "outputs": []
    },
    {
      "cell_type": "code",
      "source": [
        "mat_a"
      ],
      "metadata": {
        "id": "VfT4Q8RZiK-6",
        "outputId": "8ff95ab4-03ec-4b89-b9d9-3904ba262d30",
        "colab": {
          "base_uri": "https://localhost:8080/"
        }
      },
      "execution_count": 49,
      "outputs": [
        {
          "output_type": "execute_result",
          "data": {
            "text/plain": [
              "array([[2, 3, 5],\n",
              "       [4, 6, 7]])"
            ]
          },
          "metadata": {},
          "execution_count": 49
        }
      ]
    },
    {
      "cell_type": "code",
      "source": [
        "mat_b"
      ],
      "metadata": {
        "id": "-Z0NCYnxiNeS",
        "outputId": "49cd4668-173c-40b9-86b3-c03232116e97",
        "colab": {
          "base_uri": "https://localhost:8080/"
        }
      },
      "execution_count": 50,
      "outputs": [
        {
          "output_type": "execute_result",
          "data": {
            "text/plain": [
              "array([[ 1,  2,  5],\n",
              "       [ 2,  4, -7]])"
            ]
          },
          "metadata": {},
          "execution_count": 50
        }
      ]
    },
    {
      "cell_type": "code",
      "source": [
        "mat_c"
      ],
      "metadata": {
        "id": "SQBIrzEQiPAk",
        "outputId": "133ad337-9273-4451-a262-42959b9bdd84",
        "colab": {
          "base_uri": "https://localhost:8080/"
        }
      },
      "execution_count": 51,
      "outputs": [
        {
          "output_type": "execute_result",
          "data": {
            "text/plain": [
              "array([[2, 3],\n",
              "       [4, 6],\n",
              "       [7, 9]])"
            ]
          },
          "metadata": {},
          "execution_count": 51
        }
      ]
    },
    {
      "cell_type": "markdown",
      "source": [
        "axc, bxc"
      ],
      "metadata": {
        "id": "h-JA8spNifYi"
      }
    },
    {
      "cell_type": "code",
      "source": [
        "np.dot(mat_a,mat_c)"
      ],
      "metadata": {
        "id": "eHdai1mMiSMS",
        "outputId": "75421c70-f137-4ccc-8e70-4592040b2c3e",
        "colab": {
          "base_uri": "https://localhost:8080/"
        }
      },
      "execution_count": 52,
      "outputs": [
        {
          "output_type": "execute_result",
          "data": {
            "text/plain": [
              "array([[ 51,  69],\n",
              "       [ 81, 111]])"
            ]
          },
          "metadata": {},
          "execution_count": 52
        }
      ]
    },
    {
      "cell_type": "code",
      "source": [
        "np.dot(mat_b,mat_c)"
      ],
      "metadata": {
        "id": "ambbGMzkikq1",
        "outputId": "7feffb8c-9c08-44bd-8d26-c676b7dd310b",
        "colab": {
          "base_uri": "https://localhost:8080/"
        }
      },
      "execution_count": 53,
      "outputs": [
        {
          "output_type": "execute_result",
          "data": {
            "text/plain": [
              "array([[ 45,  60],\n",
              "       [-29, -33]])"
            ]
          },
          "metadata": {},
          "execution_count": 53
        }
      ]
    },
    {
      "cell_type": "markdown",
      "source": [
        "cxa, cxb"
      ],
      "metadata": {
        "id": "kXrc6Ikbiu55"
      }
    },
    {
      "cell_type": "code",
      "source": [
        "np.dot(mat_c,mat_a)"
      ],
      "metadata": {
        "id": "XJp5a5CfivM1",
        "outputId": "83c74e38-30f5-4819-d74a-845a1cb2c077",
        "colab": {
          "base_uri": "https://localhost:8080/"
        }
      },
      "execution_count": 54,
      "outputs": [
        {
          "output_type": "execute_result",
          "data": {
            "text/plain": [
              "array([[16, 24, 31],\n",
              "       [32, 48, 62],\n",
              "       [50, 75, 98]])"
            ]
          },
          "metadata": {},
          "execution_count": 54
        }
      ]
    },
    {
      "cell_type": "code",
      "source": [
        "np.dot(mat_c,mat_b)"
      ],
      "metadata": {
        "id": "riwhk4Uii0E2",
        "outputId": "787ca54a-20cd-430a-8604-f2a9a87b7eb0",
        "colab": {
          "base_uri": "https://localhost:8080/"
        }
      },
      "execution_count": 55,
      "outputs": [
        {
          "output_type": "execute_result",
          "data": {
            "text/plain": [
              "array([[  8,  16, -11],\n",
              "       [ 16,  32, -22],\n",
              "       [ 25,  50, -28]])"
            ]
          },
          "metadata": {},
          "execution_count": 55
        }
      ]
    },
    {
      "cell_type": "code",
      "source": [
        "mat_a * mat_b # คูณตัวตำแหน่งเดียวกัน ใช้ไม่ได้"
      ],
      "metadata": {
        "id": "5t57bwK3i5YF",
        "outputId": "02fdaa9a-3d9d-4ade-9dab-da63a860f509",
        "colab": {
          "base_uri": "https://localhost:8080/"
        }
      },
      "execution_count": 56,
      "outputs": [
        {
          "output_type": "execute_result",
          "data": {
            "text/plain": [
              "array([[  2,   6,  25],\n",
              "       [  8,  24, -49]])"
            ]
          },
          "metadata": {},
          "execution_count": 56
        }
      ]
    },
    {
      "cell_type": "code",
      "source": [
        "mat_x = np.dot(mat_c,mat_b)\n",
        "print(mat_x)"
      ],
      "metadata": {
        "id": "hzlVe6RTi7LO",
        "outputId": "ebcbfb87-b8ee-42c0-dc17-9b5231fb0e56",
        "colab": {
          "base_uri": "https://localhost:8080/"
        }
      },
      "execution_count": 57,
      "outputs": [
        {
          "output_type": "stream",
          "name": "stdout",
          "text": [
            "[[  8  16 -11]\n",
            " [ 16  32 -22]\n",
            " [ 25  50 -28]]\n"
          ]
        }
      ]
    },
    {
      "cell_type": "markdown",
      "source": [
        "### Matrix Slicing"
      ],
      "metadata": {
        "id": "D-_GVtKSjTSj"
      }
    },
    {
      "cell_type": "code",
      "source": [
        "mat_x[:2, :2]"
      ],
      "metadata": {
        "id": "FcF4gM9Si9ZK",
        "outputId": "53070a7c-3f96-4d85-cea6-b8e347383aea",
        "colab": {
          "base_uri": "https://localhost:8080/"
        }
      },
      "execution_count": 58,
      "outputs": [
        {
          "output_type": "execute_result",
          "data": {
            "text/plain": [
              "array([[ 8, 16],\n",
              "       [16, 32]])"
            ]
          },
          "metadata": {},
          "execution_count": 58
        }
      ]
    },
    {
      "cell_type": "markdown",
      "source": [
        "##HW 3 \n",
        "\n",
        "1. สร้าง array ที่เป็นรูปต้น chrismas\n",
        "2. slice เลข 1 ออกมาจาก array HW3"
      ],
      "metadata": {
        "id": "cvcmP_6EjuG8"
      }
    },
    {
      "cell_type": "code",
      "source": [
        "HW3 = np.zeros((10,10))\n",
        "HW3"
      ],
      "metadata": {
        "id": "I_YnrjoBjvmh",
        "outputId": "0343ae0c-53a6-48c3-ac3b-a12f65ed3049",
        "colab": {
          "base_uri": "https://localhost:8080/"
        }
      },
      "execution_count": 59,
      "outputs": [
        {
          "output_type": "execute_result",
          "data": {
            "text/plain": [
              "array([[0., 0., 0., 0., 0., 0., 0., 0., 0., 0.],\n",
              "       [0., 0., 0., 0., 0., 0., 0., 0., 0., 0.],\n",
              "       [0., 0., 0., 0., 0., 0., 0., 0., 0., 0.],\n",
              "       [0., 0., 0., 0., 0., 0., 0., 0., 0., 0.],\n",
              "       [0., 0., 0., 0., 0., 0., 0., 0., 0., 0.],\n",
              "       [0., 0., 0., 0., 0., 0., 0., 0., 0., 0.],\n",
              "       [0., 0., 0., 0., 0., 0., 0., 0., 0., 0.],\n",
              "       [0., 0., 0., 0., 0., 0., 0., 0., 0., 0.],\n",
              "       [0., 0., 0., 0., 0., 0., 0., 0., 0., 0.],\n",
              "       [0., 0., 0., 0., 0., 0., 0., 0., 0., 0.]])"
            ]
          },
          "metadata": {},
          "execution_count": 59
        }
      ]
    },
    {
      "cell_type": "code",
      "source": [
        "HW3[::4,2] = 1\n",
        "HW3[::4,4] = 1\n",
        "HW3[::4,6] = 1\n",
        "HW3[::4,8] = 1\n",
        "HW3"
      ],
      "metadata": {
        "id": "c00fMClNj1WN",
        "outputId": "5790217c-8b5b-4041-f9c5-1c1dec8f2c2f",
        "colab": {
          "base_uri": "https://localhost:8080/"
        }
      },
      "execution_count": 60,
      "outputs": [
        {
          "output_type": "execute_result",
          "data": {
            "text/plain": [
              "array([[0., 0., 1., 0., 1., 0., 1., 0., 1., 0.],\n",
              "       [0., 0., 0., 0., 0., 0., 0., 0., 0., 0.],\n",
              "       [0., 0., 0., 0., 0., 0., 0., 0., 0., 0.],\n",
              "       [0., 0., 0., 0., 0., 0., 0., 0., 0., 0.],\n",
              "       [0., 0., 1., 0., 1., 0., 1., 0., 1., 0.],\n",
              "       [0., 0., 0., 0., 0., 0., 0., 0., 0., 0.],\n",
              "       [0., 0., 0., 0., 0., 0., 0., 0., 0., 0.],\n",
              "       [0., 0., 0., 0., 0., 0., 0., 0., 0., 0.],\n",
              "       [0., 0., 1., 0., 1., 0., 1., 0., 1., 0.],\n",
              "       [0., 0., 0., 0., 0., 0., 0., 0., 0., 0.]])"
            ]
          },
          "metadata": {},
          "execution_count": 60
        }
      ]
    },
    {
      "cell_type": "markdown",
      "source": [
        "## ข้อ 1 "
      ],
      "metadata": {
        "id": "_t1I1fjEkGdt"
      }
    },
    {
      "cell_type": "code",
      "source": [
        "chris=1*np.ones((18,15))\n",
        "chris[2:,7:8] = 9\n",
        "chris[3:,6:9] = 9\n",
        "chris[4,5:10] = 9\n",
        "chris[5,4:11] = 9\n",
        "chris[6,3:12] = 9\n",
        "chris[7,6:9] = 9\n",
        "chris[8,5:10] = 9\n",
        "chris[9,4:11] = 9\n",
        "chris[10,3:12] = 9\n",
        "chris[11,2:13] = 9\n",
        "chris[12,5:10] = 9\n",
        "chris[13,3:12] = 9\n",
        "chris[14,2:13] = 9\n",
        "chris[15,1:14] = 9\n",
        "chris[16,7:8] = 9\n",
        "print(chris)"
      ],
      "metadata": {
        "id": "CiEQEJxzkBcF",
        "outputId": "9d5b68c1-638e-4e5c-9b5b-2e2d610030e1",
        "colab": {
          "base_uri": "https://localhost:8080/"
        }
      },
      "execution_count": 90,
      "outputs": [
        {
          "output_type": "stream",
          "name": "stdout",
          "text": [
            "[[1. 1. 1. 1. 1. 1. 1. 1. 1. 1. 1. 1. 1. 1. 1.]\n",
            " [1. 1. 1. 1. 1. 1. 1. 1. 1. 1. 1. 1. 1. 1. 1.]\n",
            " [1. 1. 1. 1. 1. 1. 1. 9. 1. 1. 1. 1. 1. 1. 1.]\n",
            " [1. 1. 1. 1. 1. 1. 9. 9. 9. 1. 1. 1. 1. 1. 1.]\n",
            " [1. 1. 1. 1. 1. 9. 9. 9. 9. 9. 1. 1. 1. 1. 1.]\n",
            " [1. 1. 1. 1. 9. 9. 9. 9. 9. 9. 9. 1. 1. 1. 1.]\n",
            " [1. 1. 1. 9. 9. 9. 9. 9. 9. 9. 9. 9. 1. 1. 1.]\n",
            " [1. 1. 1. 1. 1. 1. 9. 9. 9. 1. 1. 1. 1. 1. 1.]\n",
            " [1. 1. 1. 1. 1. 9. 9. 9. 9. 9. 1. 1. 1. 1. 1.]\n",
            " [1. 1. 1. 1. 9. 9. 9. 9. 9. 9. 9. 1. 1. 1. 1.]\n",
            " [1. 1. 1. 9. 9. 9. 9. 9. 9. 9. 9. 9. 1. 1. 1.]\n",
            " [1. 1. 9. 9. 9. 9. 9. 9. 9. 9. 9. 9. 9. 1. 1.]\n",
            " [1. 1. 1. 1. 1. 9. 9. 9. 9. 9. 1. 1. 1. 1. 1.]\n",
            " [1. 1. 1. 9. 9. 9. 9. 9. 9. 9. 9. 9. 1. 1. 1.]\n",
            " [1. 1. 9. 9. 9. 9. 9. 9. 9. 9. 9. 9. 9. 1. 1.]\n",
            " [1. 9. 9. 9. 9. 9. 9. 9. 9. 9. 9. 9. 9. 9. 1.]\n",
            " [1. 1. 1. 1. 1. 1. 9. 9. 9. 1. 1. 1. 1. 1. 1.]\n",
            " [1. 1. 1. 1. 1. 1. 9. 9. 9. 1. 1. 1. 1. 1. 1.]]\n"
          ]
        }
      ]
    },
    {
      "cell_type": "code",
      "source": [
        ""
      ],
      "metadata": {
        "id": "alw-Ze2osplt"
      },
      "execution_count": null,
      "outputs": []
    }
  ]
}